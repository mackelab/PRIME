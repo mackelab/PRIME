{
 "cells": [
  {
   "cell_type": "code",
   "execution_count": 1,
   "id": "e1000cd0",
   "metadata": {},
   "outputs": [
    {
     "data": {
      "text/plain": [
       "\"os.environ['SUBJECTS_DIR'] = subjects_dir_fsaverage #set subjects directory environment\\nmne.datasets.fetch_fsaverage(subjects_dir=subjects_dir_fsaverage)\""
      ]
     },
     "execution_count": 1,
     "metadata": {},
     "output_type": "execute_result"
    }
   ],
   "source": [
    "#make fsaverage src and leadfield\n",
    "import mne\n",
    "import os\n",
    "\n",
    "subjects_dir_fsaverage = r\"D:\\primeprep\\subjects_dir_fsaverage\"\n",
    "\"\"\"os.environ['SUBJECTS_DIR'] = subjects_dir_fsaverage #set subjects directory environment\n",
    "mne.datasets.fetch_fsaverage(subjects_dir=subjects_dir_fsaverage)\"\"\""
   ]
  },
  {
   "cell_type": "code",
   "execution_count": 2,
   "id": "7b05e47b",
   "metadata": {},
   "outputs": [
    {
     "name": "stdout",
     "output_type": "stream",
     "text": [
      "Extracting parameters from D:\\primeprep\\construct_data_struct\\Raw_data_eeglab\\Data_Tuebingen\\sub-018\\sub-018_task-tep_all_eeg.set...\n",
      "Not setting metadata\n",
      "1200 matching events found\n",
      "No baseline correction applied\n",
      "0 projection items activated\n",
      "Ready.\n",
      "Source space          : D:\\primeprep\\subjects_dir_fsaverage\\fsaverage\\bem\\fsaverage-ico-5-src.fif\n",
      "MRI -> head transform : D:\\primeprep\\subjects_dir_fsaverage\\fsaverage\\bem\\fsaverage-trans.fif\n",
      "Measurement data      : instance of Info\n",
      "Conductor model   : D:\\primeprep\\subjects_dir_fsaverage\\fsaverage\\bem\\fsaverage-5120-5120-5120-bem-sol.fif\n",
      "Accurate field computations\n",
      "Do computations in head coordinates\n",
      "Free source orientations\n",
      "\n",
      "Reading D:\\primeprep\\subjects_dir_fsaverage\\fsaverage\\bem\\fsaverage-ico-5-src.fif...\n",
      "Read 2 source spaces a total of 20484 active source locations\n",
      "\n",
      "Coordinate transformation: MRI (surface RAS) -> head\n",
      "    0.999994 0.003552 0.000202      -1.76 mm\n",
      "    -0.003558 0.998389 0.056626      31.09 mm\n",
      "    -0.000001 -0.056626 0.998395      39.60 mm\n",
      "    0.000000 0.000000 0.000000       1.00\n",
      "\n",
      "Read  60 EEG channels from info\n",
      "Head coordinate coil definitions created.\n",
      "Source spaces are now in head coordinates.\n",
      "\n",
      "Setting up the BEM model using D:\\primeprep\\subjects_dir_fsaverage\\fsaverage\\bem\\fsaverage-5120-5120-5120-bem-sol.fif...\n",
      "\n",
      "Loading surfaces...\n"
     ]
    },
    {
     "name": "stderr",
     "output_type": "stream",
     "text": [
      "C:\\Users\\Oskari\\AppData\\Local\\Temp\\ipykernel_65892\\1191487745.py:21: RuntimeWarning: This filename (epoch_018_with_chanlocs.fif) does not conform to MNE naming conventions. All epochs files should end with -epo.fif, -epo.fif.gz, _epo.fif or _epo.fif.gz\n",
      "  epochs.save(\"epoch_018_with_chanlocs.fif\")\n"
     ]
    },
    {
     "name": "stdout",
     "output_type": "stream",
     "text": [
      "\n",
      "Loading the solution matrix...\n",
      "\n",
      "Three-layer model surfaces loaded.\n",
      "Loaded linear collocation BEM solution from D:\\primeprep\\subjects_dir_fsaverage\\fsaverage\\bem\\fsaverage-5120-5120-5120-bem-sol.fif\n",
      "Employing the head->MRI coordinate transform with the BEM model.\n",
      "BEM model fsaverage-5120-5120-5120-bem-sol.fif is now set up\n",
      "\n",
      "Source spaces are in head coordinates.\n",
      "Checking that the sources are inside the surface (will take a few...)\n",
      "Checking surface interior status for 10242 points...\n",
      "    Found  2433/10242 points inside  an interior sphere of radius   47.7 mm\n",
      "    Found     0/10242 points outside an exterior sphere of radius   98.3 mm\n",
      "    Found     0/ 7809 points outside using surface Qhull\n"
     ]
    },
    {
     "name": "stderr",
     "output_type": "stream",
     "text": [
      "[Parallel(n_jobs=1)]: Using backend SequentialBackend with 1 concurrent workers.\n"
     ]
    },
    {
     "name": "stdout",
     "output_type": "stream",
     "text": [
      "    Found     0/ 7809 points outside using solid angles\n",
      "    Total 10242/10242 points inside the surface\n",
      "Interior check completed in 1858.0 ms\n",
      "Checking surface interior status for 10242 points...\n",
      "    Found  2241/10242 points inside  an interior sphere of radius   47.7 mm\n",
      "    Found     0/10242 points outside an exterior sphere of radius   98.3 mm\n",
      "    Found     0/ 8001 points outside using surface Qhull\n"
     ]
    },
    {
     "name": "stderr",
     "output_type": "stream",
     "text": [
      "[Parallel(n_jobs=1)]: Done   1 out of   1 | elapsed:    1.7s remaining:    0.0s\n",
      "[Parallel(n_jobs=1)]: Done   1 out of   1 | elapsed:    1.7s finished\n",
      "[Parallel(n_jobs=1)]: Using backend SequentialBackend with 1 concurrent workers.\n"
     ]
    },
    {
     "name": "stdout",
     "output_type": "stream",
     "text": [
      "    Found     0/ 8001 points outside using solid angles\n",
      "    Total 10242/10242 points inside the surface\n",
      "Interior check completed in 1758.2 ms\n",
      "\n",
      "Setting up for EEG...\n",
      "Computing EEG at 20484 source locations (free orientations)...\n"
     ]
    },
    {
     "name": "stderr",
     "output_type": "stream",
     "text": [
      "[Parallel(n_jobs=1)]: Done   1 out of   1 | elapsed:    1.7s remaining:    0.0s\n",
      "[Parallel(n_jobs=1)]: Done   1 out of   1 | elapsed:    1.7s finished\n",
      "[Parallel(n_jobs=1)]: Using backend SequentialBackend with 1 concurrent workers.\n"
     ]
    },
    {
     "name": "stdout",
     "output_type": "stream",
     "text": [
      "\n",
      "Finished.\n",
      "    Write a source space...\n",
      "    [done]\n",
      "    Write a source space...\n",
      "    [done]\n",
      "    2 source spaces written\n"
     ]
    },
    {
     "name": "stderr",
     "output_type": "stream",
     "text": [
      "[Parallel(n_jobs=1)]: Done   1 out of   1 | elapsed:    3.2s remaining:    0.0s\n",
      "[Parallel(n_jobs=1)]: Done   1 out of   1 | elapsed:    3.2s finished\n"
     ]
    }
   ],
   "source": [
    "bempath = os.path.join(subjects_dir_fsaverage, \"fsaverage\", \"bem\")\n",
    "trans = os.path.join(bempath, \"fsaverage-trans.fif\")\n",
    "src = os.path.join(bempath, \"fsaverage-ico-5-src.fif\")\n",
    "bem = os.path.join(bempath, \"fsaverage-5120-5120-5120-bem-sol.fif\")\n",
    "epochs_path = r\"D:\\primeprep\\construct_data_struct\\Raw_data_eeglab\\Data_Tuebingen\\sub-018\\sub-018_task-tep_all_eeg.set\"\n",
    "montage_name = 'standard_1005'\n",
    "montage_path = os.path.join(subjects_dir_fsaverage,\"fsaverage\",f\"{montage_name}-montage.fif\")\n",
    "epochs = mne.read_epochs_eeglab(epochs_path).crop(-0.1, -0.05)[0]\n",
    "\n",
    "common_channels = ['AF3', 'AF4', 'AF7', 'AF8', 'C1', 'C2', 'C3', 'C4', 'C5', 'C6', 'CP1', 'CP2', 'CP3',\n",
    " 'CP4', 'CP5', 'CP6', 'CPz', 'Cz', 'F1', 'F2', 'F3', 'F4', 'F5', 'F6', 'F7', 'F8',\n",
    " 'FC1', 'FC2', 'FC3', 'FC4', 'FC5', 'FC6', 'FT7', 'FT8', 'Fp1', 'Fp2', 'Fpz', 'Fz',\n",
    " 'Iz', 'O1', 'O2', 'Oz', 'P1', 'P2', 'P3', 'P4', 'P5', 'P6', 'P7', 'P8', 'PO3', 'PO4',\n",
    " 'PO7', 'PO8', 'POz', 'Pz', 'T7', 'T8', 'TP7', 'TP8'] #common EEG channels in the REFTEP dataset in Tuebingen and Aalto\n",
    "\n",
    "epochs.pick(common_channels)\n",
    "montage = mne.channels.make_standard_montage(montage_name)\n",
    "montage.save(montage_path)\n",
    "epochs.set_montage(None)\n",
    "epochs.set_montage(montage)\n",
    "epochs.save(\"epoch_018_with_chanlocs.fif\")\n",
    "forward = mne.make_forward_solution(epochs.info, trans, src, bem)\n",
    "mne.write_forward_solution(os.path.join(subjects_dir_fsaverage,\"fsaverage\",\"fsaverage-fwd.fif\"),forward)"
   ]
  },
  {
   "cell_type": "code",
   "execution_count": null,
   "id": "e3965eab",
   "metadata": {},
   "outputs": [
    {
     "name": "stdout",
     "output_type": "stream",
     "text": [
      "Using pyvistaqt 3d backend.\n",
      "\n",
      "Using high resolution head model in D:\\primeprep\\subjects_dir_fsaverage\\fsaverage\\bem\\fsaverage-head-dense.fif\n",
      "    Triangle neighbors and vertex normals...\n",
      "Using fiducials from: D:\\primeprep\\subjects_dir_fsaverage\\fsaverage\\bem\\fsaverage-fiducials.fif.\n",
      "Using high resolution head model in D:\\primeprep\\subjects_dir_fsaverage\\fsaverage\\bem\\fsaverage-head-dense.fif\n",
      "    Triangle neighbors and vertex normals...\n",
      "Using fiducials from: D:\\primeprep\\subjects_dir_fsaverage\\fsaverage\\bem\\fsaverage-fiducials.fif.\n",
      "Loading MRI fiducials from D:\\primeprep\\subjects_dir_fsaverage\\fsaverage\\bem\\fsaverage-fiducials.fif... Done!\n",
      "Using fsaverage-head-dense.fif for head surface.\n",
      "    1 BEM surfaces found\n",
      "    Reading a surface...\n",
      "[done]\n",
      "    1 BEM surfaces read\n",
      "Loading MRI fiducials from D:\\primeprep\\subjects_dir_fsaverage\\fsaverage\\bem\\fsaverage-fiducials.fif... Done!\n",
      "Using fsaverage-head-dense.fif for head surface.\n",
      "    1 BEM surfaces found\n",
      "    Reading a surface...\n",
      "[done]\n",
      "    1 BEM surfaces read\n"
     ]
    },
    {
     "data": {
      "text/plain": [
       "<mne.gui._coreg.CoregistrationUI at 0x16cf3cd0290>"
      ]
     },
     "execution_count": 3,
     "metadata": {},
     "output_type": "execute_result"
    },
    {
     "name": "stdout",
     "output_type": "stream",
     "text": [
      "Using fsaverage-head-dense.fif for head surface.\n",
      "    1 BEM surfaces found\n",
      "    Reading a surface...\n",
      "[done]\n",
      "    1 BEM surfaces read\n",
      "Channel types::\teeg: 60\n",
      "D:/primeprep/subjects_dir_fsaverage/fsaverage/bem/fsaverage-trans.fif transform file is loaded.\n",
      "Using fsaverage-head-dense.fif for head surface.\n",
      "    1 BEM surfaces found\n",
      "    Reading a surface...\n",
      "[done]\n",
      "    1 BEM surfaces read\n",
      "Channel types::\teeg: 60\n",
      "Aligning using ICP\n",
      "Start     median distance:   2.24 mm\n",
      "  ICP  1  median distance:   1.95 mm\n",
      "Fitting ICP - iteration 1\n",
      "Channel types::\teeg: 60\n",
      "  ICP  2  median distance:   1.90 mm\n",
      "Fitting ICP - iteration 2\n",
      "Channel types::\teeg: 60\n",
      "  ICP  3  median distance:   2.06 mm\n",
      "Fitting ICP - iteration 3\n",
      "Channel types::\teeg: 60\n",
      "  ICP  4  median distance:   2.03 mm\n",
      "Fitting ICP - iteration 4\n",
      "Channel types::\teeg: 60\n",
      "  ICP  5  median distance:   1.90 mm\n",
      "Fitting ICP - iteration 5\n",
      "Channel types::\teeg: 60\n",
      "End       median distance:   1.90 mm\n",
      "Fitting ICP finished in 0.57 seconds and 5 iterations.\n"
     ]
    }
   ],
   "source": [
    "mne.gui.coregistration(subjects_dir=subjects_dir_fsaverage, subject='fsaverage')"
   ]
  }
 ],
 "metadata": {
  "kernelspec": {
   "display_name": "base",
   "language": "python",
   "name": "python3"
  },
  "language_info": {
   "codemirror_mode": {
    "name": "ipython",
    "version": 3
   },
   "file_extension": ".py",
   "mimetype": "text/x-python",
   "name": "python",
   "nbconvert_exporter": "python",
   "pygments_lexer": "ipython3",
   "version": "3.11.7"
  }
 },
 "nbformat": 4,
 "nbformat_minor": 5
}
